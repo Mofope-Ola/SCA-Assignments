{
 "cells": [
  {
   "cell_type": "code",
   "execution_count": 1,
   "metadata": {},
   "outputs": [
    {
     "name": "stdout",
     "output_type": "stream",
     "text": [
      "Title: SCA Beginner Level 3 Assignment - Mofopefoluwa Olarinmoye\n"
     ]
    }
   ],
   "source": [
    "print(\"Title: SCA Beginner Level 3 Assignment - Mofopefoluwa Olarinmoye\")"
   ]
  },
  {
   "cell_type": "code",
   "execution_count": 2,
   "metadata": {},
   "outputs": [
    {
     "data": {
      "text/plain": [
       "array([[100, 110],\n",
       "       [120, 130],\n",
       "       [140, 150],\n",
       "       [160, 170],\n",
       "       [180, 190]])"
      ]
     },
     "execution_count": 2,
     "metadata": {},
     "output_type": "execute_result"
    }
   ],
   "source": [
    "# Numpy Exercise 1\n",
    "import numpy as np\n",
    "arr = np.arange(100, 200, 10)\n",
    "arr.reshape(5,2)"
   ]
  },
  {
   "cell_type": "code",
   "execution_count": 3,
   "metadata": {},
   "outputs": [
    {
     "name": "stdout",
     "output_type": "stream",
     "text": [
      "[33 66 99]\n"
     ]
    }
   ],
   "source": [
    "# Numpy Exercise 2\n",
    "import numpy as np\n",
    "inputArray = np.array([[11 ,22, 33], [44, 55, 66], [77, 88, 99]])\n",
    "print(inputArray[0:,2])"
   ]
  },
  {
   "cell_type": "code",
   "execution_count": 5,
   "metadata": {},
   "outputs": [
    {
     "data": {
      "text/plain": [
       "array([[ 400, 1521, 1089],\n",
       "       [ 625,  625,  784]])"
      ]
     },
     "execution_count": 5,
     "metadata": {},
     "output_type": "execute_result"
    }
   ],
   "source": [
    "# Numpy Exercise 3\n",
    "import numpy as np\n",
    "arrayOne = np.array([[5, 6, 9], [21 ,18, 27]])\n",
    "arrayTwo = np.array([[15 ,33, 24], [4 ,7, 1]])\n",
    "arraySum = arrayOne + arrayTwo\n",
    "np.square(arraySum)"
   ]
  },
  {
   "cell_type": "code",
   "execution_count": 13,
   "metadata": {},
   "outputs": [
    {
     "name": "stdout",
     "output_type": "stream",
     "text": [
      "           company   body-style  wheel-base  length engine-type  \\\n",
      "index                                                             \n",
      "0      alfa-romero  convertible        88.6   168.8        dohc   \n",
      "1      alfa-romero  convertible        88.6   168.8        dohc   \n",
      "2      alfa-romero    hatchback        94.5   171.2        ohcv   \n",
      "3             audi        sedan        99.8   176.6         ohc   \n",
      "4             audi        sedan        99.4   176.6         ohc   \n",
      "\n",
      "      num-of-cylinders  horsepower  average-mileage    price  \n",
      "index                                                         \n",
      "0                 four         111               21  13495.0  \n",
      "1                 four         111               21  16500.0  \n",
      "2                  six         154               19  16500.0  \n",
      "3                 four         102               24  13950.0  \n",
      "4                 five         115               18  17450.0  \n",
      "          company body-style  wheel-base  length engine-type num-of-cylinders  \\\n",
      "index                                                                           \n",
      "81     volkswagen      sedan        97.3   171.7         ohc             four   \n",
      "82     volkswagen      sedan        97.3   171.7         ohc             four   \n",
      "86     volkswagen      sedan        97.3   171.7         ohc             four   \n",
      "87          volvo      sedan       104.3   188.8         ohc             four   \n",
      "88          volvo      wagon       104.3   188.8         ohc             four   \n",
      "\n",
      "       horsepower  average-mileage    price  \n",
      "index                                        \n",
      "81             85               27   7975.0  \n",
      "82             52               37   7995.0  \n",
      "86            100               26   9995.0  \n",
      "87            114               23  12940.0  \n",
      "88            114               23  13415.0  \n"
     ]
    }
   ],
   "source": [
    "# Pandas Exercise 1\n",
    "import pandas as pd\n",
    "cars = pd.read_csv(\"/Users/mofopeolarinmoye/Documents/Documents - Mofopefoluwa’s MacBook Air/Skills/Python/cars_info.csv\",index_col=0)\n",
    "print(cars.head())\n",
    "print(cars.tail()) "
   ]
  },
  {
   "cell_type": "code",
   "execution_count": 2,
   "metadata": {},
   "outputs": [],
   "source": [
    "# Pandas Exercise 2\n",
    "import pandas as pd\n",
    "cars = pd.read_csv(\"/Users/mofopeolarinmoye/Documents/Documents - Mofopefoluwa’s MacBook Air/Skills/Python/cars_info.csv\",index_col=0)\n",
    "cars = cars.replace(['?','n.a'],'NaN')"
   ]
  },
  {
   "cell_type": "code",
   "execution_count": 28,
   "metadata": {},
   "outputs": [
    {
     "data": {
      "text/html": [
       "<div>\n",
       "<style scoped>\n",
       "    .dataframe tbody tr th:only-of-type {\n",
       "        vertical-align: middle;\n",
       "    }\n",
       "\n",
       "    .dataframe tbody tr th {\n",
       "        vertical-align: top;\n",
       "    }\n",
       "\n",
       "    .dataframe thead th {\n",
       "        text-align: right;\n",
       "    }\n",
       "</style>\n",
       "<table border=\"1\" class=\"dataframe\">\n",
       "  <thead>\n",
       "    <tr style=\"text-align: right;\">\n",
       "      <th></th>\n",
       "      <th>company</th>\n",
       "      <th>body-style</th>\n",
       "      <th>wheel-base</th>\n",
       "      <th>length</th>\n",
       "      <th>engine-type</th>\n",
       "      <th>num-of-cylinders</th>\n",
       "      <th>horsepower</th>\n",
       "      <th>average-mileage</th>\n",
       "      <th>price</th>\n",
       "    </tr>\n",
       "    <tr>\n",
       "      <th>index</th>\n",
       "      <th></th>\n",
       "      <th></th>\n",
       "      <th></th>\n",
       "      <th></th>\n",
       "      <th></th>\n",
       "      <th></th>\n",
       "      <th></th>\n",
       "      <th></th>\n",
       "      <th></th>\n",
       "    </tr>\n",
       "  </thead>\n",
       "  <tbody>\n",
       "    <tr>\n",
       "      <th>47</th>\n",
       "      <td>mercedes-benz</td>\n",
       "      <td>hardtop</td>\n",
       "      <td>112.0</td>\n",
       "      <td>199.2</td>\n",
       "      <td>ohcv</td>\n",
       "      <td>eight</td>\n",
       "      <td>184</td>\n",
       "      <td>14</td>\n",
       "      <td>45400.0</td>\n",
       "    </tr>\n",
       "  </tbody>\n",
       "</table>\n",
       "</div>"
      ],
      "text/plain": [
       "             company body-style  wheel-base  length engine-type  \\\n",
       "index                                                             \n",
       "47     mercedes-benz    hardtop       112.0   199.2        ohcv   \n",
       "\n",
       "      num-of-cylinders  horsepower  average-mileage    price  \n",
       "index                                                         \n",
       "47               eight         184               14  45400.0  "
      ]
     },
     "execution_count": 28,
     "metadata": {},
     "output_type": "execute_result"
    }
   ],
   "source": [
    "# Pandas Exercise 3\n",
    "import pandas as pd\n",
    "cars = pd.read_csv(\"/Users/mofopeolarinmoye/Documents/Documents - Mofopefoluwa’s MacBook Air/Skills/Python/cars_info.csv\",index_col=0)\n",
    "cars[cars[\"price\"] == cars[\"price\"].max()]"
   ]
  },
  {
   "cell_type": "code",
   "execution_count": 11,
   "metadata": {},
   "outputs": [
    {
     "data": {
      "text/html": [
       "<div>\n",
       "<style scoped>\n",
       "    .dataframe tbody tr th:only-of-type {\n",
       "        vertical-align: middle;\n",
       "    }\n",
       "\n",
       "    .dataframe tbody tr th {\n",
       "        vertical-align: top;\n",
       "    }\n",
       "\n",
       "    .dataframe thead th {\n",
       "        text-align: right;\n",
       "    }\n",
       "</style>\n",
       "<table border=\"1\" class=\"dataframe\">\n",
       "  <thead>\n",
       "    <tr style=\"text-align: right;\">\n",
       "      <th></th>\n",
       "      <th>company</th>\n",
       "      <th>body-style</th>\n",
       "      <th>wheel-base</th>\n",
       "      <th>length</th>\n",
       "      <th>engine-type</th>\n",
       "      <th>num-of-cylinders</th>\n",
       "      <th>horsepower</th>\n",
       "      <th>average-mileage</th>\n",
       "      <th>price</th>\n",
       "    </tr>\n",
       "    <tr>\n",
       "      <th>index</th>\n",
       "      <th></th>\n",
       "      <th></th>\n",
       "      <th></th>\n",
       "      <th></th>\n",
       "      <th></th>\n",
       "      <th></th>\n",
       "      <th></th>\n",
       "      <th></th>\n",
       "      <th></th>\n",
       "    </tr>\n",
       "  </thead>\n",
       "  <tbody>\n",
       "    <tr>\n",
       "      <th>66</th>\n",
       "      <td>toyota</td>\n",
       "      <td>hatchback</td>\n",
       "      <td>95.7</td>\n",
       "      <td>158.7</td>\n",
       "      <td>ohc</td>\n",
       "      <td>four</td>\n",
       "      <td>62</td>\n",
       "      <td>35</td>\n",
       "      <td>5348.0</td>\n",
       "    </tr>\n",
       "    <tr>\n",
       "      <th>67</th>\n",
       "      <td>toyota</td>\n",
       "      <td>hatchback</td>\n",
       "      <td>95.7</td>\n",
       "      <td>158.7</td>\n",
       "      <td>ohc</td>\n",
       "      <td>four</td>\n",
       "      <td>62</td>\n",
       "      <td>31</td>\n",
       "      <td>6338.0</td>\n",
       "    </tr>\n",
       "    <tr>\n",
       "      <th>68</th>\n",
       "      <td>toyota</td>\n",
       "      <td>hatchback</td>\n",
       "      <td>95.7</td>\n",
       "      <td>158.7</td>\n",
       "      <td>ohc</td>\n",
       "      <td>four</td>\n",
       "      <td>62</td>\n",
       "      <td>31</td>\n",
       "      <td>6488.0</td>\n",
       "    </tr>\n",
       "    <tr>\n",
       "      <th>69</th>\n",
       "      <td>toyota</td>\n",
       "      <td>wagon</td>\n",
       "      <td>95.7</td>\n",
       "      <td>169.7</td>\n",
       "      <td>ohc</td>\n",
       "      <td>four</td>\n",
       "      <td>62</td>\n",
       "      <td>31</td>\n",
       "      <td>6918.0</td>\n",
       "    </tr>\n",
       "    <tr>\n",
       "      <th>70</th>\n",
       "      <td>toyota</td>\n",
       "      <td>wagon</td>\n",
       "      <td>95.7</td>\n",
       "      <td>169.7</td>\n",
       "      <td>ohc</td>\n",
       "      <td>four</td>\n",
       "      <td>62</td>\n",
       "      <td>27</td>\n",
       "      <td>7898.0</td>\n",
       "    </tr>\n",
       "    <tr>\n",
       "      <th>71</th>\n",
       "      <td>toyota</td>\n",
       "      <td>wagon</td>\n",
       "      <td>95.7</td>\n",
       "      <td>169.7</td>\n",
       "      <td>ohc</td>\n",
       "      <td>four</td>\n",
       "      <td>62</td>\n",
       "      <td>27</td>\n",
       "      <td>8778.0</td>\n",
       "    </tr>\n",
       "    <tr>\n",
       "      <th>79</th>\n",
       "      <td>toyota</td>\n",
       "      <td>wagon</td>\n",
       "      <td>104.5</td>\n",
       "      <td>187.8</td>\n",
       "      <td>dohc</td>\n",
       "      <td>six</td>\n",
       "      <td>156</td>\n",
       "      <td>19</td>\n",
       "      <td>15750.0</td>\n",
       "    </tr>\n",
       "  </tbody>\n",
       "</table>\n",
       "</div>"
      ],
      "text/plain": [
       "      company body-style  wheel-base  length engine-type num-of-cylinders  \\\n",
       "index                                                                       \n",
       "66     toyota  hatchback        95.7   158.7         ohc             four   \n",
       "67     toyota  hatchback        95.7   158.7         ohc             four   \n",
       "68     toyota  hatchback        95.7   158.7         ohc             four   \n",
       "69     toyota      wagon        95.7   169.7         ohc             four   \n",
       "70     toyota      wagon        95.7   169.7         ohc             four   \n",
       "71     toyota      wagon        95.7   169.7         ohc             four   \n",
       "79     toyota      wagon       104.5   187.8        dohc              six   \n",
       "\n",
       "       horsepower  average-mileage    price  \n",
       "index                                        \n",
       "66             62               35   5348.0  \n",
       "67             62               31   6338.0  \n",
       "68             62               31   6488.0  \n",
       "69             62               31   6918.0  \n",
       "70             62               27   7898.0  \n",
       "71             62               27   8778.0  \n",
       "79            156               19  15750.0  "
      ]
     },
     "execution_count": 11,
     "metadata": {},
     "output_type": "execute_result"
    }
   ],
   "source": [
    "# Pandas Exercise 4\n",
    "import pandas as pd\n",
    "cars = pd.read_csv(\"/Users/mofopeolarinmoye/Documents/Documents - Mofopefoluwa’s MacBook Air/Skills/Python/cars_info.csv\",index_col=0)\n",
    "cars[cars[\"company\"] == \"toyota\"]"
   ]
  },
  {
   "cell_type": "code",
   "execution_count": 15,
   "metadata": {},
   "outputs": [
    {
     "data": {
      "text/plain": [
       "toyota           7\n",
       "bmw              6\n",
       "mazda            5\n",
       "nissan           5\n",
       "audi             4\n",
       "volkswagen       4\n",
       "mercedes-benz    4\n",
       "mitsubishi       4\n",
       "alfa-romero      3\n",
       "isuzu            3\n",
       "chevrolet        3\n",
       "jaguar           3\n",
       "honda            3\n",
       "porsche          3\n",
       "volvo            2\n",
       "dodge            2\n",
       "Name: company, dtype: int64"
      ]
     },
     "execution_count": 15,
     "metadata": {},
     "output_type": "execute_result"
    }
   ],
   "source": [
    "# Pandas Exercise 5\n",
    "import pandas as pd\n",
    "cars = pd.read_csv(\"/Users/mofopeolarinmoye/Documents/Documents - Mofopefoluwa’s MacBook Air/Skills/Python/cars_info.csv\",index_col=0)\n",
    "cars[\"company\"].value_counts()"
   ]
  },
  {
   "cell_type": "code",
   "execution_count": 20,
   "metadata": {},
   "outputs": [
    {
     "data": {
      "text/plain": [
       "company\n",
       "alfa-romero      16500.0\n",
       "audi             18920.0\n",
       "bmw              41315.0\n",
       "chevrolet         6575.0\n",
       "dodge             6377.0\n",
       "honda            12945.0\n",
       "isuzu             6785.0\n",
       "jaguar           36000.0\n",
       "mazda            18344.0\n",
       "mercedes-benz    45400.0\n",
       "mitsubishi        8189.0\n",
       "nissan           13499.0\n",
       "porsche          37028.0\n",
       "toyota           15750.0\n",
       "volkswagen        9995.0\n",
       "volvo            13415.0\n",
       "Name: price, dtype: float64"
      ]
     },
     "execution_count": 20,
     "metadata": {},
     "output_type": "execute_result"
    }
   ],
   "source": [
    "# Pandas Exercise 6\n",
    "import pandas as pd\n",
    "cars = pd.read_csv(\"/Users/mofopeolarinmoye/Documents/Documents - Mofopefoluwa’s MacBook Air/Skills/Python/cars_info.csv\",index_col=0)\n",
    "cars.groupby(['company']).max(\"price\")[\"price\"]"
   ]
  },
  {
   "cell_type": "code",
   "execution_count": 29,
   "metadata": {},
   "outputs": [
    {
     "name": "stdout",
     "output_type": "stream",
     "text": [
      "company\n",
      "alfa-romero      20.333333\n",
      "audi             20.000000\n",
      "bmw              19.000000\n",
      "chevrolet        41.000000\n",
      "dodge            31.000000\n",
      "honda            26.333333\n",
      "isuzu            33.333333\n",
      "jaguar           14.333333\n",
      "mazda            28.000000\n",
      "mercedes-benz    18.000000\n",
      "mitsubishi       29.500000\n",
      "nissan           31.400000\n",
      "porsche          17.000000\n",
      "toyota           28.714286\n",
      "volkswagen       31.750000\n",
      "volvo            23.000000\n",
      "Name: average-mileage, dtype: float64\n"
     ]
    }
   ],
   "source": [
    "# Pandas Exercise 7\n",
    "import pandas as pd\n",
    "cars = pd.read_csv(\"/Users/mofopeolarinmoye/Documents/Documents - Mofopefoluwa’s MacBook Air/Skills/Python/cars_info.csv\",index_col=0)\n",
    "mileage = cars.groupby(['company']).mean(\"average-mileage\")[\"average-mileage\"]\n",
    "print(mileage)"
   ]
  },
  {
   "cell_type": "code",
   "execution_count": 38,
   "metadata": {},
   "outputs": [
    {
     "data": {
      "text/html": [
       "<div>\n",
       "<style scoped>\n",
       "    .dataframe tbody tr th:only-of-type {\n",
       "        vertical-align: middle;\n",
       "    }\n",
       "\n",
       "    .dataframe tbody tr th {\n",
       "        vertical-align: top;\n",
       "    }\n",
       "\n",
       "    .dataframe thead th {\n",
       "        text-align: right;\n",
       "    }\n",
       "</style>\n",
       "<table border=\"1\" class=\"dataframe\">\n",
       "  <thead>\n",
       "    <tr style=\"text-align: right;\">\n",
       "      <th></th>\n",
       "      <th>company</th>\n",
       "      <th>body-style</th>\n",
       "      <th>wheel-base</th>\n",
       "      <th>length</th>\n",
       "      <th>engine-type</th>\n",
       "      <th>num-of-cylinders</th>\n",
       "      <th>horsepower</th>\n",
       "      <th>average-mileage</th>\n",
       "      <th>price</th>\n",
       "    </tr>\n",
       "    <tr>\n",
       "      <th>index</th>\n",
       "      <th></th>\n",
       "      <th></th>\n",
       "      <th></th>\n",
       "      <th></th>\n",
       "      <th></th>\n",
       "      <th></th>\n",
       "      <th></th>\n",
       "      <th></th>\n",
       "      <th></th>\n",
       "    </tr>\n",
       "  </thead>\n",
       "  <tbody>\n",
       "    <tr>\n",
       "      <th>31</th>\n",
       "      <td>isuzu</td>\n",
       "      <td>sedan</td>\n",
       "      <td>94.5</td>\n",
       "      <td>155.9</td>\n",
       "      <td>ohc</td>\n",
       "      <td>four</td>\n",
       "      <td>70</td>\n",
       "      <td>38</td>\n",
       "      <td>NaN</td>\n",
       "    </tr>\n",
       "    <tr>\n",
       "      <th>32</th>\n",
       "      <td>isuzu</td>\n",
       "      <td>sedan</td>\n",
       "      <td>94.5</td>\n",
       "      <td>155.9</td>\n",
       "      <td>ohc</td>\n",
       "      <td>four</td>\n",
       "      <td>70</td>\n",
       "      <td>38</td>\n",
       "      <td>NaN</td>\n",
       "    </tr>\n",
       "    <tr>\n",
       "      <th>63</th>\n",
       "      <td>porsche</td>\n",
       "      <td>hatchback</td>\n",
       "      <td>98.4</td>\n",
       "      <td>175.7</td>\n",
       "      <td>dohcv</td>\n",
       "      <td>eight</td>\n",
       "      <td>288</td>\n",
       "      <td>17</td>\n",
       "      <td>NaN</td>\n",
       "    </tr>\n",
       "    <tr>\n",
       "      <th>16</th>\n",
       "      <td>chevrolet</td>\n",
       "      <td>hatchback</td>\n",
       "      <td>88.4</td>\n",
       "      <td>141.1</td>\n",
       "      <td>l</td>\n",
       "      <td>three</td>\n",
       "      <td>48</td>\n",
       "      <td>47</td>\n",
       "      <td>5151.0</td>\n",
       "    </tr>\n",
       "    <tr>\n",
       "      <th>36</th>\n",
       "      <td>mazda</td>\n",
       "      <td>hatchback</td>\n",
       "      <td>93.1</td>\n",
       "      <td>159.1</td>\n",
       "      <td>ohc</td>\n",
       "      <td>four</td>\n",
       "      <td>68</td>\n",
       "      <td>30</td>\n",
       "      <td>5195.0</td>\n",
       "    </tr>\n",
       "    <tr>\n",
       "      <th>...</th>\n",
       "      <td>...</td>\n",
       "      <td>...</td>\n",
       "      <td>...</td>\n",
       "      <td>...</td>\n",
       "      <td>...</td>\n",
       "      <td>...</td>\n",
       "      <td>...</td>\n",
       "      <td>...</td>\n",
       "      <td>...</td>\n",
       "    </tr>\n",
       "    <tr>\n",
       "      <th>15</th>\n",
       "      <td>bmw</td>\n",
       "      <td>sedan</td>\n",
       "      <td>110.0</td>\n",
       "      <td>197.0</td>\n",
       "      <td>ohc</td>\n",
       "      <td>six</td>\n",
       "      <td>182</td>\n",
       "      <td>15</td>\n",
       "      <td>36880.0</td>\n",
       "    </tr>\n",
       "    <tr>\n",
       "      <th>62</th>\n",
       "      <td>porsche</td>\n",
       "      <td>convertible</td>\n",
       "      <td>89.5</td>\n",
       "      <td>168.9</td>\n",
       "      <td>ohcf</td>\n",
       "      <td>six</td>\n",
       "      <td>207</td>\n",
       "      <td>17</td>\n",
       "      <td>37028.0</td>\n",
       "    </tr>\n",
       "    <tr>\n",
       "      <th>46</th>\n",
       "      <td>mercedes-benz</td>\n",
       "      <td>sedan</td>\n",
       "      <td>120.9</td>\n",
       "      <td>208.1</td>\n",
       "      <td>ohcv</td>\n",
       "      <td>eight</td>\n",
       "      <td>184</td>\n",
       "      <td>14</td>\n",
       "      <td>40960.0</td>\n",
       "    </tr>\n",
       "    <tr>\n",
       "      <th>14</th>\n",
       "      <td>bmw</td>\n",
       "      <td>sedan</td>\n",
       "      <td>103.5</td>\n",
       "      <td>193.8</td>\n",
       "      <td>ohc</td>\n",
       "      <td>six</td>\n",
       "      <td>182</td>\n",
       "      <td>16</td>\n",
       "      <td>41315.0</td>\n",
       "    </tr>\n",
       "    <tr>\n",
       "      <th>47</th>\n",
       "      <td>mercedes-benz</td>\n",
       "      <td>hardtop</td>\n",
       "      <td>112.0</td>\n",
       "      <td>199.2</td>\n",
       "      <td>ohcv</td>\n",
       "      <td>eight</td>\n",
       "      <td>184</td>\n",
       "      <td>14</td>\n",
       "      <td>45400.0</td>\n",
       "    </tr>\n",
       "  </tbody>\n",
       "</table>\n",
       "<p>61 rows × 9 columns</p>\n",
       "</div>"
      ],
      "text/plain": [
       "             company   body-style  wheel-base  length engine-type  \\\n",
       "index                                                               \n",
       "31             isuzu        sedan        94.5   155.9         ohc   \n",
       "32             isuzu        sedan        94.5   155.9         ohc   \n",
       "63           porsche    hatchback        98.4   175.7       dohcv   \n",
       "16         chevrolet    hatchback        88.4   141.1           l   \n",
       "36             mazda    hatchback        93.1   159.1         ohc   \n",
       "...              ...          ...         ...     ...         ...   \n",
       "15               bmw        sedan       110.0   197.0         ohc   \n",
       "62           porsche  convertible        89.5   168.9        ohcf   \n",
       "46     mercedes-benz        sedan       120.9   208.1        ohcv   \n",
       "14               bmw        sedan       103.5   193.8         ohc   \n",
       "47     mercedes-benz      hardtop       112.0   199.2        ohcv   \n",
       "\n",
       "      num-of-cylinders  horsepower  average-mileage    price  \n",
       "index                                                         \n",
       "31                four          70               38      NaN  \n",
       "32                four          70               38      NaN  \n",
       "63               eight         288               17      NaN  \n",
       "16               three          48               47   5151.0  \n",
       "36                four          68               30   5195.0  \n",
       "...                ...         ...              ...      ...  \n",
       "15                 six         182               15  36880.0  \n",
       "62                 six         207               17  37028.0  \n",
       "46               eight         184               14  40960.0  \n",
       "14                 six         182               16  41315.0  \n",
       "47               eight         184               14  45400.0  \n",
       "\n",
       "[61 rows x 9 columns]"
      ]
     },
     "execution_count": 38,
     "metadata": {},
     "output_type": "execute_result"
    }
   ],
   "source": [
    "# Pandas Exercise 8\n",
    "import pandas as pd\n",
    "cars = pd.read_csv(\"/Users/mofopeolarinmoye/Documents/Documents - Mofopefoluwa’s MacBook Air/Skills/Python/cars_info.csv\",index_col=0)\n",
    "cars.sort_values(by = [\"price\"], na_position='first')"
   ]
  },
  {
   "cell_type": "code",
   "execution_count": 43,
   "metadata": {},
   "outputs": [
    {
     "name": "stdout",
     "output_type": "stream",
     "text": [
      "       Company   Price\n",
      "0         Ford   23845\n",
      "1     Mercedes  171995\n",
      "2          BMV  135925\n",
      "3         Audi   71400\n",
      "0       Toyota   29995\n",
      "1        Honda   23600\n",
      "2       Nissan   61500\n",
      "3  Mitsubishi    58900\n"
     ]
    }
   ],
   "source": [
    "# Pandas Exercise 9\n",
    "import pandas as pd\n",
    "cars = pd.read_csv(\"/Users/mofopeolarinmoye/Documents/Documents - Mofopefoluwa’s MacBook Air/Skills/Python/cars_info.csv\",index_col=0)\n",
    "GermanCars = {'Company': ['Ford', 'Mercedes', 'BMV', 'Audi'], 'Price': [23845, 171995, 135925 , 71400]}\n",
    "japaneseCars = {'Company': ['Toyota', 'Honda', 'Nissan', 'Mitsubishi '], 'Price': [29995, 23600, 61500 , 58900]}\n",
    "special_G = pd.DataFrame(GermanCars)\n",
    "special_J = pd.DataFrame(japaneseCars)\n",
    "specialtyCars = pd.concat([special_G, special_J])\n",
    "print(specialtyCars)"
   ]
  },
  {
   "cell_type": "code",
   "execution_count": 45,
   "metadata": {},
   "outputs": [
    {
     "name": "stdout",
     "output_type": "stream",
     "text": [
      "  Company   Price  horsepower\n",
      "0  Toyota   23845         141\n",
      "1   Honda   17995          80\n",
      "2     BMV  135925         182\n",
      "3    Audi   71400         160\n"
     ]
    }
   ],
   "source": [
    "# Pandas Exercise 10\n",
    "import pandas as pd\n",
    "cars = pd.read_csv(\"/Users/mofopeolarinmoye/Documents/Documents - Mofopefoluwa’s MacBook Air/Skills/Python/cars_info.csv\",index_col=0)\n",
    "Car_Price = {'Company': ['Toyota', 'Honda', 'BMV', 'Audi'], 'Price': [23845, 17995, 135925 , 71400]}\n",
    "car_Horsepower = {'Company': ['Toyota', 'Honda', 'BMV', 'Audi'], 'horsepower': [141, 80, 182 , 160]}\n",
    "price = pd.DataFrame(Car_Price)\n",
    "power = pd.DataFrame(car_Horsepower)\n",
    "carDetails = pd.merge(price, power)\n",
    "print(carDetails)\n",
    "#cars[cars[\"company\"] == \"toyota\"]\n",
    "#cars.sort_values(by = [\"price\"], na_position='first')\n",
    "#cars.groupby(['company']).mean(\"average-mileage\")[\"average-mileage\"]\n",
    "#print(mileage)\n",
    "#cars[\"company\"].value_counts()"
   ]
  },
  {
   "cell_type": "code",
   "execution_count": 69,
   "metadata": {},
   "outputs": [
    {
     "data": {
      "image/png": "[encoded data removed]",
      "text/plain": [
       "<Figure size 432x288 with 1 Axes>"
      ]
     },
     "metadata": {
      "needs_background": "light"
     },
     "output_type": "display_data"
    }
   ],
   "source": [
    "# Matplot Exercise 1\n",
    "import pandas as pd\n",
    "from matplotlib import pyplot as plt\n",
    "sales = pd.read_csv(\"/Users/mofopeolarinmoye/Documents/Documents - Mofopefoluwa’s MacBook Air/Skills/Python/company_sales_data.csv\",index_col=0)\n",
    "X = sales.index\n",
    "Y = sales[\"total_profit\"]\n",
    "plt.plot(X, Y)\n",
    "plt.title(\"Company profit per month\")\n",
    "plt.ylabel(\"Total profit\")\n",
    "plt.xlabel(\"Month number\")\n",
    "plt.show()"
   ]
  },
  {
   "cell_type": "code",
   "execution_count": 76,
   "metadata": {},
   "outputs": [
    {
     "data": {
      "image/png": "[encoded data removed]",
      "text/plain": [
       "<Figure size 432x288 with 1 Axes>"
      ]
     },
     "metadata": {
      "needs_background": "light"
     },
     "output_type": "display_data"
    }
   ],
   "source": [
    "# Matplot Exercise 2\n",
    "import pandas as pd\n",
    "from matplotlib import pyplot as plt\n",
    "sales = pd.read_csv(\"/Users/mofopeolarinmoye/Documents/Documents - Mofopefoluwa’s MacBook Air/Skills/Python/company_sales_data.csv\",index_col=0)\n",
    "X1 = sales.index\n",
    "Y1 = sales[\"facecream\"]\n",
    "X2 = sales.index\n",
    "Y2 = sales[\"facewash\"]\n",
    "X3 = sales.index\n",
    "Y3 = sales[\"toothpaste\"]\n",
    "X4 = sales.index\n",
    "Y4 = sales[\"bathingsoap\"]\n",
    "X5 = sales.index\n",
    "Y5 = sales[\"shampoo\"]\n",
    "X6 = sales.index\n",
    "Y6 = sales[\"moisturizer\"]\n",
    "plt.plot(X1, Y1, label = \"facecream\")\n",
    "plt.plot(X2, Y2, label = \"facewash\")\n",
    "plt.plot(X3, Y3, label = \"toothpaste\")\n",
    "plt.plot(X4, Y4, label = \"bathingsoap\")\n",
    "plt.plot(X5, Y5, label = \"shampoo\")\n",
    "plt.plot(X6, Y6, label = \"moisturizer\")\n",
    "plt.title(\"Sales data\")\n",
    "plt.ylabel(\"Sales units in numbers\")\n",
    "plt.xlabel(\"Month number\")\n",
    "plt.legend()\n",
    "plt.show()"
   ]
  },
  {
   "cell_type": "code",
   "execution_count": 80,
   "metadata": {},
   "outputs": [
    {
     "data": {
      "image/png": "[encoded data removed]",
      "text/plain": [
       "<Figure size 432x288 with 1 Axes>"
      ]
     },
     "metadata": {
      "needs_background": "light"
     },
     "output_type": "display_data"
    }
   ],
   "source": [
    "# Matplot Exercise 3\n",
    "import pandas as pd\n",
    "from matplotlib import pyplot as plt\n",
    "sales = pd.read_csv(\"/Users/mofopeolarinmoye/Documents/Documents - Mofopefoluwa’s MacBook Air/Skills/Python/company_sales_data.csv\",index_col=0)\n",
    "X = sales.index\n",
    "Y = sales[\"toothpaste\"]\n",
    "plt.scatter(X, Y, label = \"Toothpaste Sales Data\")\n",
    "plt.title(\"Toothpaste Sales Data\")\n",
    "plt.ylabel(\"Number of units sold\")\n",
    "plt.xlabel(\"Month number\")\n",
    "plt.grid(linestyle = \"-\")\n",
    "plt.legend()\n",
    "plt.show()"
   ]
  },
  {
   "cell_type": "code",
   "execution_count": 115,
   "metadata": {},
   "outputs": [
    {
     "data": {
      "image/png": "[encoded data removed]",
      "text/plain": [
       "<Figure size 432x288 with 1 Axes>"
      ]
     },
     "metadata": {
      "needs_background": "light"
     },
     "output_type": "display_data"
    }
   ],
   "source": [
    "# Matplot Exercise 4\n",
    "import pandas as pd\n",
    "from matplotlib import pyplot as plt\n",
    "sales = pd.read_csv(\"/Users/mofopeolarinmoye/Documents/Documents - Mofopefoluwa’s MacBook Air/Skills/Python/company_sales_data.csv\",index_col=0)\n",
    "X1 = sales.index\n",
    "Y1 = sales[\"facecream\"]\n",
    "X2 = sales.index\n",
    "Y2 = sales[\"facewash\"]\n",
    "pdt_sales = pd.DataFrame({'Facecream sales data': Y1,\n",
    "                   'Facewash sales data': Y2}, index=X1)\n",
    "pdt_sales.plot.bar()\n",
    "plt.title(\"Toothpaste Sales Data\")\n",
    "plt.ylabel(\"Sales units in number\")\n",
    "plt.xlabel(\"Month Number\")\n",
    "plt.grid()\n",
    "plt.legend()\n",
    "plt.show()"
   ]
  },
  {
   "cell_type": "code",
   "execution_count": 127,
   "metadata": {},
   "outputs": [
    {
     "data": {
      "image/png": "[encoded data removed]",
      "text/plain": [
       "<Figure size 432x288 with 1 Axes>"
      ]
     },
     "metadata": {},
     "output_type": "display_data"
    }
   ],
   "source": [
    "# Matplot Exercise 5\n",
    "import pandas as pd\n",
    "from matplotlib import pyplot as plt\n",
    "sales = pd.read_csv(\"/Users/mofopeolarinmoye/Documents/Documents - Mofopefoluwa’s MacBook Air/Skills/Python/company_sales_data.csv\",index_col=0)\n",
    "\n",
    "X1 = sales.index\n",
    "Y1 = sales[\"facecream\"].sum()\n",
    "Y2 = sales[\"facewash\"].sum()\n",
    "Y3 = sales[\"toothpaste\"].sum()\n",
    "Y4 = sales[\"bathingsoap\"].sum()\n",
    "Y5 = sales[\"shampoo\"].sum()\n",
    "Y6 = sales[\"moisturizer\"].sum()\n",
    "totalSales = [Y1, Y2, Y3, Y4, Y5, Y6]\n",
    "products = [\"facecream\", \"facewash\", \"toothpaste\", \"bathingsoap\", \"shampoo\", \"moisturizer\"]\n",
    "plt.pie(totalSales, labels = products, autopct='%1.1f%%')\n",
    "plt.title(\"Sales Data\")\n",
    "plt.legend()\n",
    "plt.show()"
   ]
  },
  {
   "cell_type": "code",
   "execution_count": 121,
   "metadata": {},
   "outputs": [
    {
     "name": "stdout",
     "output_type": "stream",
     "text": [
      "34480\n"
     ]
    }
   ],
   "source": []
  },
  {
   "cell_type": "code",
   "execution_count": null,
   "metadata": {},
   "outputs": [],
   "source": []
  }
 ],
 "metadata": {
  "kernelspec": {
   "display_name": "Python 3",
   "language": "python",
   "name": "python3"
  },
  "language_info": {
   "codemirror_mode": {
    "name": "ipython",
    "version": 3
   },
   "file_extension": ".py",
   "mimetype": "text/x-python",
   "name": "python",
   "nbconvert_exporter": "python",
   "pygments_lexer": "ipython3",
   "version": "3.8.5"
  }
 },
 "nbformat": 4,
 "nbformat_minor": 4
}
